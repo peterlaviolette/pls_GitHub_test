import cv2
import dlib
import numpy as np

def segment_eyes(image_path, output_path):
    # Load the image
    img = cv2.imread(image_path)
    
    # Convert to grayscale
    gray = cv2.cvtColor(img, cv2.COLOR_BGR2GRAY)
    
    # Initialize dlib's face detector and facial landmark predictor
    detector = dlib.get_frontal_face_detector()
    predictor = dlib.shape_predictor("shape_predictor_68_face_landmarks.dat")
    
    # Detect faces in the grayscale image
    faces = detector(gray)
    
    for face in faces:
        # Get facial landmarks
        landmarks = predictor(gray, face)
        
        # Extract eye coordinates
        left_eye = landmarks.parts()[36:42]
        right_eye = landmarks.parts()[42:48]
        
        # Create masks for eyes
        height, width = img.shape[:2]
        mask = np.zeros((height, width), dtype=np.uint8)
        
        # Draw filled polygons for eyes on the mask
        cv2.fillPoly(mask, [np.array([(p.x, p.y) for p in left_eye])], 255)
        cv2.fillPoly(mask, [np.array([(p.x, p.y) for p in right_eye])], 255)
        
        # Apply the mask to the original image
        eyes_only = cv2.bitwise_and(img, img, mask=mask)
        
        # Save the result
        cv2.imwrite(output_path, eyes_only)
        
        print(f"Eyes segmented and saved to {output_path}")

# Example usage
input_image = "path/to/your/headshot.jpg"
output_image = "path/to/your/output/segmented_eyes.jpg"
segment_eyes(input_image, output_image)
